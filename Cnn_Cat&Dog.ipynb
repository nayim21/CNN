{
 "cells": [
  {
   "cell_type": "code",
   "execution_count": 1,
   "metadata": {},
   "outputs": [],
   "source": [
    "import numpy as np\n",
    "import pandas as pd\n",
    "import os\n",
    "import matplotlib as mpl\n",
    "import matplotlib.pyplot as plt\n",
    "%matplotlib inline"
   ]
  },
  {
   "cell_type": "code",
   "execution_count": 2,
   "metadata": {},
   "outputs": [],
   "source": [
    "import tensorflow as tf\n",
    "from tensorflow import keras"
   ]
  },
  {
   "cell_type": "code",
   "execution_count": 3,
   "metadata": {},
   "outputs": [],
   "source": [
    "train_dir= r\"C:\\Users\\Bardia\\data\\cats_and_dogs_small\\train\"\n",
    "valid_dir= r\"C:\\Users\\Bardia\\data\\cats_and_dogs_small\\validation\"\n",
    "test_dir= r\"C:\\Users\\Bardia\\data\\cats_and_dogs_small\\test\""
   ]
  },
  {
   "cell_type": "code",
   "execution_count": 4,
   "metadata": {},
   "outputs": [],
   "source": [
    "from tensorflow.keras.preprocessing.image import ImageDataGenerator"
   ]
  },
  {
   "cell_type": "code",
   "execution_count": 5,
   "metadata": {},
   "outputs": [
    {
     "name": "stdout",
     "output_type": "stream",
     "text": [
      "Found 2000 images belonging to 2 classes.\n",
      "Found 1000 images belonging to 2 classes.\n"
     ]
    }
   ],
   "source": [
    "train_datagen=ImageDataGenerator(rescale=1./255)\n",
    "test_datagen=ImageDataGenerator(rescale=1./255)\n",
    "train_generator=train_datagen.flow_from_directory(\n",
    "            train_dir,\n",
    "            target_size=(150,150),\n",
    "            batch_size=20,\n",
    "            class_mode='binary')\n",
    "                  \n",
    "valid_generator=test_datagen.flow_from_directory(\n",
    "            valid_dir,\n",
    "            target_size=(150,150),\n",
    "            batch_size=20,\n",
    "            class_mode='binary')                    \n"
   ]
  },
  {
   "cell_type": "code",
   "execution_count": 6,
   "metadata": {},
   "outputs": [],
   "source": [
    "from tensorflow.keras import layers\n",
    "from tensorflow.keras  import models"
   ]
  },
  {
   "cell_type": "code",
   "execution_count": 8,
   "metadata": {},
   "outputs": [],
   "source": [
    "model=models.Sequential()\n",
    "#filter = 32 , window size convolution = 3,3  , window size pooling = 2,2\n",
    "model.add(layers.Conv2D(32,(3,3),activation='relu',input_shape=(150,150,3)))\n",
    "model.add(layers.MaxPooling2D((2,2)))\n",
    "#after pooling image (150,150) convert (75,75)\n",
    "model.add(layers.Conv2D(64,(3,3),activation='relu'))\n",
    "model.add(layers.MaxPooling2D((2,2)))\n",
    "#after pooling image (150,150) convert (33,33) and .....\n",
    "model.add(layers.Conv2D(128,(3,3),activation='relu'))\n",
    "model.add(layers.MaxPooling2D((2,2)))\n",
    "\n",
    "model.add(layers.Conv2D(128,(3,3),activation='relu'))\n",
    "model.add(layers.MaxPooling2D((2,2)))\n",
    "# the number of filter is increse(*2) and the number of pooling(decrease img) cause image is higher performance\n",
    "# after 4 layer conv, and 4 pooling , we need flatten and dense (1 neurn output)\n",
    "# hidden layer use relu activation and output layer use sigmoid\n",
    "model.add(layers.Flatten())\n",
    "model.add(layers.Dense(512,activation='relu'))\n",
    "model.add(layers.Dense(1,activation='sigmoid'))"
   ]
  },
  {
   "cell_type": "code",
   "execution_count": 9,
   "metadata": {},
   "outputs": [
    {
     "name": "stdout",
     "output_type": "stream",
     "text": [
      "Model: \"sequential_1\"\n",
      "_________________________________________________________________\n",
      "Layer (type)                 Output Shape              Param #   \n",
      "=================================================================\n",
      "conv2d_4 (Conv2D)            (None, 148, 148, 32)      896       \n",
      "_________________________________________________________________\n",
      "max_pooling2d_4 (MaxPooling2 (None, 74, 74, 32)        0         \n",
      "_________________________________________________________________\n",
      "conv2d_5 (Conv2D)            (None, 72, 72, 64)        18496     \n",
      "_________________________________________________________________\n",
      "max_pooling2d_5 (MaxPooling2 (None, 36, 36, 64)        0         \n",
      "_________________________________________________________________\n",
      "conv2d_6 (Conv2D)            (None, 34, 34, 128)       73856     \n",
      "_________________________________________________________________\n",
      "max_pooling2d_6 (MaxPooling2 (None, 17, 17, 128)       0         \n",
      "_________________________________________________________________\n",
      "conv2d_7 (Conv2D)            (None, 15, 15, 128)       147584    \n",
      "_________________________________________________________________\n",
      "max_pooling2d_7 (MaxPooling2 (None, 7, 7, 128)         0         \n",
      "_________________________________________________________________\n",
      "flatten_1 (Flatten)          (None, 6272)              0         \n",
      "_________________________________________________________________\n",
      "dense_2 (Dense)              (None, 512)               3211776   \n",
      "_________________________________________________________________\n",
      "dense_3 (Dense)              (None, 1)                 513       \n",
      "=================================================================\n",
      "Total params: 3,453,121\n",
      "Trainable params: 3,453,121\n",
      "Non-trainable params: 0\n",
      "_________________________________________________________________\n"
     ]
    }
   ],
   "source": [
    "model.summary()"
   ]
  },
  {
   "cell_type": "code",
   "execution_count": 23,
   "metadata": {},
   "outputs": [],
   "source": [
    "from tensorflow.keras import optimizers\n",
    "model.compile(loss='binary_crossentropy',optimizer=optimizers.RMSprop(lr=1e-4),metrics=['acc'])"
   ]
  },
  {
   "cell_type": "code",
   "execution_count": 24,
   "metadata": {
    "scrolled": true
   },
   "outputs": [
    {
     "name": "stdout",
     "output_type": "stream",
     "text": [
      "Epoch 1/20\n",
      "100/100 [==============================] - 135s 1s/step - loss: 0.6855 - acc: 0.5465 - val_loss: 0.6584 - val_acc: 0.6030\n",
      "Epoch 2/20\n",
      "100/100 [==============================] - 125s 1s/step - loss: 0.6548 - acc: 0.6065 - val_loss: 0.6409 - val_acc: 0.6350\n",
      "Epoch 3/20\n",
      "100/100 [==============================] - 126s 1s/step - loss: 0.6051 - acc: 0.6760 - val_loss: 0.6115 - val_acc: 0.6530\n",
      "Epoch 4/20\n",
      "100/100 [==============================] - 126s 1s/step - loss: 0.5683 - acc: 0.6940 - val_loss: 0.6100 - val_acc: 0.6620\n",
      "Epoch 5/20\n",
      "100/100 [==============================] - 125s 1s/step - loss: 0.5337 - acc: 0.7245 - val_loss: 0.6098 - val_acc: 0.6630\n",
      "Epoch 6/20\n",
      "100/100 [==============================] - 125s 1s/step - loss: 0.5069 - acc: 0.7495 - val_loss: 0.5713 - val_acc: 0.7000\n",
      "Epoch 7/20\n",
      "100/100 [==============================] - 125s 1s/step - loss: 0.4840 - acc: 0.7545 - val_loss: 0.5749 - val_acc: 0.6870\n",
      "Epoch 8/20\n",
      "100/100 [==============================] - 126s 1s/step - loss: 0.4527 - acc: 0.7910 - val_loss: 0.5567 - val_acc: 0.7020\n",
      "Epoch 9/20\n",
      "100/100 [==============================] - 125s 1s/step - loss: 0.4283 - acc: 0.8020 - val_loss: 0.5899 - val_acc: 0.6860\n",
      "Epoch 10/20\n",
      "100/100 [==============================] - 126s 1s/step - loss: 0.4054 - acc: 0.8110 - val_loss: 0.5721 - val_acc: 0.7100\n",
      "Epoch 11/20\n",
      "100/100 [==============================] - 125s 1s/step - loss: 0.3807 - acc: 0.8295 - val_loss: 0.5691 - val_acc: 0.7170\n",
      "Epoch 12/20\n",
      "100/100 [==============================] - 125s 1s/step - loss: 0.3500 - acc: 0.8475 - val_loss: 0.5755 - val_acc: 0.7130\n",
      "Epoch 13/20\n",
      "100/100 [==============================] - 125s 1s/step - loss: 0.3280 - acc: 0.8580 - val_loss: 0.5892 - val_acc: 0.7170\n",
      "Epoch 14/20\n",
      "100/100 [==============================] - 124s 1s/step - loss: 0.3034 - acc: 0.8665 - val_loss: 0.6401 - val_acc: 0.7040\n",
      "Epoch 15/20\n",
      "100/100 [==============================] - 124s 1s/step - loss: 0.2718 - acc: 0.8935 - val_loss: 0.6028 - val_acc: 0.7130\n",
      "Epoch 16/20\n",
      "100/100 [==============================] - 125s 1s/step - loss: 0.2502 - acc: 0.9005 - val_loss: 0.6118 - val_acc: 0.7190\n",
      "Epoch 17/20\n",
      "100/100 [==============================] - 125s 1s/step - loss: 0.2313 - acc: 0.9125 - val_loss: 0.6321 - val_acc: 0.7120\n",
      "Epoch 18/20\n",
      "100/100 [==============================] - 125s 1s/step - loss: 0.2040 - acc: 0.9190 - val_loss: 0.6520 - val_acc: 0.7160\n",
      "Epoch 19/20\n",
      "100/100 [==============================] - 125s 1s/step - loss: 0.1826 - acc: 0.9295 - val_loss: 0.7607 - val_acc: 0.6990\n",
      "Epoch 20/20\n",
      "100/100 [==============================] - 125s 1s/step - loss: 0.1631 - acc: 0.9445 - val_loss: 0.6976 - val_acc: 0.7150\n"
     ]
    }
   ],
   "source": [
    "history=model.fit_generator(train_generator,steps_per_epoch=100,epochs=20,validation_data=valid_generator,validation_steps=50)"
   ]
  },
  {
   "cell_type": "code",
   "execution_count": 25,
   "metadata": {},
   "outputs": [
    {
     "data": {
      "image/png": "[encoded data removed]",
      "text/plain": [
       "<Figure size 576x360 with 1 Axes>"
      ]
     },
     "metadata": {
      "needs_background": "light"
     },
     "output_type": "display_data"
    }
   ],
   "source": [
    "pd.DataFrame(history.history).plot(figsize=(8,5))\n",
    "plt.grid(True)\n",
    "plt.gca().set_ylim(0,1)\n",
    "plt.show()"
   ]
  },
  {
   "cell_type": "code",
   "execution_count": null,
   "metadata": {},
   "outputs": [],
   "source": []
  }
 ],
 "metadata": {
  "kernelspec": {
   "display_name": "Python 3",
   "language": "python",
   "name": "python3"
  },
  "language_info": {
   "codemirror_mode": {
    "name": "ipython",
    "version": 3
   },
   "file_extension": ".py",
   "mimetype": "text/x-python",
   "name": "python",
   "nbconvert_exporter": "python",
   "pygments_lexer": "ipython3",
   "version": "3.8.5"
  }
 },
 "nbformat": 4,
 "nbformat_minor": 4
}
