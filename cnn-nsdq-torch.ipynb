{
 "cells": [
  {
   "cell_type": "code",
   "execution_count": 1,
   "id": "f1fe4f06",
   "metadata": {},
   "outputs": [],
   "source": [
    "import numpy as np # linear algebra\n",
    "import pandas as pd # data processing, CSV file I/O (e.g. pd.read_csv)\n",
    "import seaborn as sns\n",
    "import matplotlib.pyplot as plt\n",
    "from sklearn.preprocessing import MinMaxScaler\n",
    "from sklearn.metrics import mean_squared_error\n",
    "\n",
    "\n",
    "from tqdm import tqdm\n",
    "from matplotlib import pyplot as plt\n",
    "\n",
    "import torch.nn as nn\n",
    "from torch.utils.data import Dataset\n",
    "from torch.utils.data import DataLoader\n",
    "from torch.utils.data import random_split\n",
    "\n",
    "from skimage.io import imread\n",
    "import matplotlib.pyplot as plt\n",
    "%matplotlib inline\n",
    "\n",
    "# for creating validation set\n",
    "from sklearn.model_selection import train_test_split\n",
    "\n",
    "# for evaluating the model\n",
    "from sklearn.metrics import accuracy_score\n",
    "from tqdm import tqdm\n",
    "\n",
    "# PyTorch libraries and modules\n",
    "import torch\n",
    "from torch.autograd import Variable\n",
    "from torch.nn import Linear, ReLU, CrossEntropyLoss, Sequential, Conv2d, MaxPool2d, Module, Softmax, BatchNorm2d, Dropout\n",
    "from torch.optim import Adam, SGD\n",
    "import os"
   ]
  },
  {
   "cell_type": "code",
   "execution_count": 2,
   "id": "4a6b4691",
   "metadata": {},
   "outputs": [],
   "source": [
    "import tensorflow as tf\n",
    "\n",
    "import tensorflow.keras\n",
    "from tensorflow import keras\n",
    "\n",
    "from tensorflow.keras import layers\n",
    "\n",
    "from keras.layers import Dense,RepeatVector\n",
    "from keras.layers import Flatten\n",
    "from keras.layers import TimeDistributed\n",
    "from keras.layers.convolutional import Conv1D\n",
    "from keras.layers.convolutional import MaxPooling1D"
   ]
  },
  {
   "cell_type": "code",
   "execution_count": 3,
   "id": "2eda5145",
   "metadata": {},
   "outputs": [
    {
     "data": {
      "text/plain": [
       "(6510, 6)"
      ]
     },
     "execution_count": 3,
     "metadata": {},
     "output_type": "execute_result"
    }
   ],
   "source": [
    "data = pd.read_csv('d:/dataset/nasdqTR.csv')\n",
    "#df = pd.DataFrame(data=d, dtype=np.int8)\n",
    "data=data.dropna()\n",
    "data.shape"
   ]
  },
  {
   "cell_type": "code",
   "execution_count": 4,
   "id": "7ce7743a",
   "metadata": {},
   "outputs": [
    {
     "name": "stdout",
     "output_type": "stream",
     "text": [
      "<class 'pandas.core.frame.DataFrame'>\n",
      "RangeIndex: 6510 entries, 0 to 6509\n",
      "Data columns (total 6 columns):\n",
      " #   Column  Non-Null Count  Dtype  \n",
      "---  ------  --------------  -----  \n",
      " 0   Date    6510 non-null   object \n",
      " 1   Open    6510 non-null   float64\n",
      " 2   High    6510 non-null   float64\n",
      " 3   Low     6510 non-null   float64\n",
      " 4   Close   6510 non-null   float64\n",
      " 5   Volume  6510 non-null   int64  \n",
      "dtypes: float64(4), int64(1), object(1)\n",
      "memory usage: 305.3+ KB\n"
     ]
    }
   ],
   "source": [
    "data.info()"
   ]
  },
  {
   "cell_type": "code",
   "execution_count": 5,
   "id": "cb4f7cda",
   "metadata": {},
   "outputs": [
    {
     "data": {
      "text/html": [
       "<div>\n",
       "<style scoped>\n",
       "    .dataframe tbody tr th:only-of-type {\n",
       "        vertical-align: middle;\n",
       "    }\n",
       "\n",
       "    .dataframe tbody tr th {\n",
       "        vertical-align: top;\n",
       "    }\n",
       "\n",
       "    .dataframe thead th {\n",
       "        text-align: right;\n",
       "    }\n",
       "</style>\n",
       "<table border=\"1\" class=\"dataframe\">\n",
       "  <thead>\n",
       "    <tr style=\"text-align: right;\">\n",
       "      <th></th>\n",
       "      <th>Date</th>\n",
       "      <th>Open</th>\n",
       "      <th>High</th>\n",
       "      <th>Low</th>\n",
       "      <th>Close</th>\n",
       "      <th>Volume</th>\n",
       "    </tr>\n",
       "  </thead>\n",
       "  <tbody>\n",
       "    <tr>\n",
       "      <th>0</th>\n",
       "      <td>1/2/1990</td>\n",
       "      <td>452.899994</td>\n",
       "      <td>459.299988</td>\n",
       "      <td>452.700012</td>\n",
       "      <td>459.299988</td>\n",
       "      <td>110720000</td>\n",
       "    </tr>\n",
       "    <tr>\n",
       "      <th>1</th>\n",
       "      <td>1/3/1990</td>\n",
       "      <td>461.100006</td>\n",
       "      <td>461.600006</td>\n",
       "      <td>460.000000</td>\n",
       "      <td>460.899994</td>\n",
       "      <td>152660000</td>\n",
       "    </tr>\n",
       "    <tr>\n",
       "      <th>2</th>\n",
       "      <td>1/4/1990</td>\n",
       "      <td>460.399994</td>\n",
       "      <td>460.799988</td>\n",
       "      <td>456.899994</td>\n",
       "      <td>459.399994</td>\n",
       "      <td>147950000</td>\n",
       "    </tr>\n",
       "    <tr>\n",
       "      <th>3</th>\n",
       "      <td>1/5/1990</td>\n",
       "      <td>457.899994</td>\n",
       "      <td>459.399994</td>\n",
       "      <td>457.799988</td>\n",
       "      <td>458.200012</td>\n",
       "      <td>137230000</td>\n",
       "    </tr>\n",
       "    <tr>\n",
       "      <th>4</th>\n",
       "      <td>1/8/1990</td>\n",
       "      <td>457.100006</td>\n",
       "      <td>458.700012</td>\n",
       "      <td>456.500000</td>\n",
       "      <td>458.700012</td>\n",
       "      <td>115500000</td>\n",
       "    </tr>\n",
       "  </tbody>\n",
       "</table>\n",
       "</div>"
      ],
      "text/plain": [
       "       Date        Open        High         Low       Close     Volume\n",
       "0  1/2/1990  452.899994  459.299988  452.700012  459.299988  110720000\n",
       "1  1/3/1990  461.100006  461.600006  460.000000  460.899994  152660000\n",
       "2  1/4/1990  460.399994  460.799988  456.899994  459.399994  147950000\n",
       "3  1/5/1990  457.899994  459.399994  457.799988  458.200012  137230000\n",
       "4  1/8/1990  457.100006  458.700012  456.500000  458.700012  115500000"
      ]
     },
     "execution_count": 5,
     "metadata": {},
     "output_type": "execute_result"
    }
   ],
   "source": [
    "data.head()"
   ]
  },
  {
   "cell_type": "code",
   "execution_count": 6,
   "id": "66862441",
   "metadata": {},
   "outputs": [],
   "source": [
    "#data['Date'] = pd.to_datetime(data['Date'])"
   ]
  },
  {
   "cell_type": "code",
   "execution_count": 7,
   "id": "1aec416d",
   "metadata": {},
   "outputs": [
    {
     "name": "stdout",
     "output_type": "stream",
     "text": [
      "<class 'pandas.core.frame.DataFrame'>\n",
      "RangeIndex: 6510 entries, 0 to 6509\n",
      "Data columns (total 6 columns):\n",
      " #   Column  Non-Null Count  Dtype  \n",
      "---  ------  --------------  -----  \n",
      " 0   Date    6510 non-null   object \n",
      " 1   Open    6510 non-null   float64\n",
      " 2   High    6510 non-null   float64\n",
      " 3   Low     6510 non-null   float64\n",
      " 4   Close   6510 non-null   float64\n",
      " 5   Volume  6510 non-null   int64  \n",
      "dtypes: float64(4), int64(1), object(1)\n",
      "memory usage: 305.3+ KB\n"
     ]
    }
   ],
   "source": [
    "data.info()"
   ]
  },
  {
   "cell_type": "code",
   "execution_count": 8,
   "id": "7a5fe457",
   "metadata": {},
   "outputs": [
    {
     "name": "stdout",
     "output_type": "stream",
     "text": [
      "<class 'pandas.core.frame.DataFrame'>\n",
      "RangeIndex: 6510 entries, 0 to 6509\n",
      "Data columns (total 7 columns):\n",
      " #   Column  Non-Null Count  Dtype  \n",
      "---  ------  --------------  -----  \n",
      " 0   Date    6510 non-null   object \n",
      " 1   Open    6510 non-null   float64\n",
      " 2   High    6510 non-null   float64\n",
      " 3   Low     6510 non-null   float64\n",
      " 4   Close   6510 non-null   float64\n",
      " 5   Volume  6510 non-null   int64  \n",
      " 6   NDate   6510 non-null   int32  \n",
      "dtypes: float64(4), int32(1), int64(1), object(1)\n",
      "memory usage: 330.7+ KB\n"
     ]
    },
    {
     "name": "stderr",
     "output_type": "stream",
     "text": [
      "C:\\Users\\Naeim\\AppData\\Local\\Temp\\ipykernel_15128\\2120947312.py:2: FutureWarning: The default value of regex will change from True to False in a future version.\n",
      "  data['NDate'] = data['Date'].str.replace('\\D', '').astype(int)\n"
     ]
    }
   ],
   "source": [
    "#for i in range(6510):\n",
    "data['NDate'] = data['Date'].str.replace('\\D', '').astype(int)\n",
    "    \n",
    "data.info()\n"
   ]
  },
  {
   "cell_type": "code",
   "execution_count": 9,
   "id": "75e89f82",
   "metadata": {},
   "outputs": [
    {
     "data": {
      "text/html": [
       "<div>\n",
       "<style scoped>\n",
       "    .dataframe tbody tr th:only-of-type {\n",
       "        vertical-align: middle;\n",
       "    }\n",
       "\n",
       "    .dataframe tbody tr th {\n",
       "        vertical-align: top;\n",
       "    }\n",
       "\n",
       "    .dataframe thead th {\n",
       "        text-align: right;\n",
       "    }\n",
       "</style>\n",
       "<table border=\"1\" class=\"dataframe\">\n",
       "  <thead>\n",
       "    <tr style=\"text-align: right;\">\n",
       "      <th></th>\n",
       "      <th>Date</th>\n",
       "      <th>Open</th>\n",
       "      <th>High</th>\n",
       "      <th>Low</th>\n",
       "      <th>Close</th>\n",
       "      <th>Volume</th>\n",
       "      <th>NDate</th>\n",
       "    </tr>\n",
       "  </thead>\n",
       "  <tbody>\n",
       "    <tr>\n",
       "      <th>0</th>\n",
       "      <td>1/2/1990</td>\n",
       "      <td>452.899994</td>\n",
       "      <td>459.299988</td>\n",
       "      <td>452.700012</td>\n",
       "      <td>459.299988</td>\n",
       "      <td>110720000</td>\n",
       "      <td>121990</td>\n",
       "    </tr>\n",
       "    <tr>\n",
       "      <th>1</th>\n",
       "      <td>1/3/1990</td>\n",
       "      <td>461.100006</td>\n",
       "      <td>461.600006</td>\n",
       "      <td>460.000000</td>\n",
       "      <td>460.899994</td>\n",
       "      <td>152660000</td>\n",
       "      <td>131990</td>\n",
       "    </tr>\n",
       "    <tr>\n",
       "      <th>2</th>\n",
       "      <td>1/4/1990</td>\n",
       "      <td>460.399994</td>\n",
       "      <td>460.799988</td>\n",
       "      <td>456.899994</td>\n",
       "      <td>459.399994</td>\n",
       "      <td>147950000</td>\n",
       "      <td>141990</td>\n",
       "    </tr>\n",
       "    <tr>\n",
       "      <th>3</th>\n",
       "      <td>1/5/1990</td>\n",
       "      <td>457.899994</td>\n",
       "      <td>459.399994</td>\n",
       "      <td>457.799988</td>\n",
       "      <td>458.200012</td>\n",
       "      <td>137230000</td>\n",
       "      <td>151990</td>\n",
       "    </tr>\n",
       "    <tr>\n",
       "      <th>4</th>\n",
       "      <td>1/8/1990</td>\n",
       "      <td>457.100006</td>\n",
       "      <td>458.700012</td>\n",
       "      <td>456.500000</td>\n",
       "      <td>458.700012</td>\n",
       "      <td>115500000</td>\n",
       "      <td>181990</td>\n",
       "    </tr>\n",
       "  </tbody>\n",
       "</table>\n",
       "</div>"
      ],
      "text/plain": [
       "       Date        Open        High         Low       Close     Volume   NDate\n",
       "0  1/2/1990  452.899994  459.299988  452.700012  459.299988  110720000  121990\n",
       "1  1/3/1990  461.100006  461.600006  460.000000  460.899994  152660000  131990\n",
       "2  1/4/1990  460.399994  460.799988  456.899994  459.399994  147950000  141990\n",
       "3  1/5/1990  457.899994  459.399994  457.799988  458.200012  137230000  151990\n",
       "4  1/8/1990  457.100006  458.700012  456.500000  458.700012  115500000  181990"
      ]
     },
     "execution_count": 9,
     "metadata": {},
     "output_type": "execute_result"
    }
   ],
   "source": [
    "data.head()"
   ]
  },
  {
   "cell_type": "code",
   "execution_count": 10,
   "id": "bb6aff3b",
   "metadata": {},
   "outputs": [
    {
     "name": "stdout",
     "output_type": "stream",
     "text": [
      " count =  217\n"
     ]
    },
    {
     "data": {
      "text/plain": [
       "(217, 64, 60)"
      ]
     },
     "execution_count": 10,
     "metadata": {},
     "output_type": "execute_result"
    }
   ],
   "source": [
    "import os, sys\n",
    "#import Image\n",
    "from PIL import Image\n",
    "train_img = []\n",
    "label=[] \n",
    "i=0\n",
    "count =0 \n",
    "\n",
    "for i in range(0,6510,30):\n",
    "    \n",
    "    \n",
    "    #XX=data.iloc[i:i+29]['Close']\n",
    "    #f=plt.figure(figsize=(7,7),dpi=4)\n",
    "    #plt.plot(XX)\n",
    "    #plt.show()\n",
    "    #plt.savefig(f'd:/dataset/plot_nsq28/_{i}_.png')\n",
    "    image_path=f'd:/dataset/plot_nsq64/_{i}_.png'\n",
    "    img = imread(image_path, as_gray=True)\n",
    "    # normalizing the pixel values\n",
    "    img /= 255.0\n",
    "    # converting the type of pixel to float 32\n",
    "    img = img.astype('float32')\n",
    "    # appending the image into the list\n",
    "    train_img.append(img)\n",
    "    \n",
    "    label.append(data.iloc[i+29]['NDate'])\n",
    "    count+=1\n",
    "\n",
    "print(\" count = \" ,count)\n",
    "# converting the list to numpy array\n",
    "train_x = np.array(train_img)\n",
    "train_x.shape"
   ]
  },
  {
   "cell_type": "code",
   "execution_count": 11,
   "id": "a4155981",
   "metadata": {},
   "outputs": [
    {
     "data": {
      "text/plain": [
       "array([ 2121990,  3271990,   591990,  6211990,   831990,  9171990,\n",
       "       10291990, 12111990,  1241991,   381991,  4221991,   641991,\n",
       "        7171991,  8281991, 10101991, 11211991,   171992,  2191992,\n",
       "         411992,  5141992,  6261992,  8101992,  9221992,  1131992,\n",
       "       12161992,  1291993,  3151993,  4271993,   691993,  7221993,\n",
       "         921993, 10151993, 11291993,  1111994,  2231994,   471994,\n",
       "        5201994,   751994,  8161994,  9281994,  1191994, 12221994,\n",
       "         261995,  3211995,   531995,  6151995,  7281995,  9111995,\n",
       "       10231995,  1251995,  1181996,   311996,  4151996,  5281996,\n",
       "        7101996,  8211996,  1031996, 11141996, 12301996,  2111997,\n",
       "        3261997,   581997,  6201997,   841997,  9161997, 10281997,\n",
       "       12101997,  1261998,  3101998,  4221998,   641998,  7171998,\n",
       "        8281998, 10121998, 11231998,   171999,  2221999,   461999,\n",
       "        5181999,  6301999,  8121999,  9241999,  1151999, 12201999,\n",
       "         222000,  3162000,  4282000,  6122000,  7252000,   962000,\n",
       "       10182000, 11302000,  1162001,  2282001,  4112001,  5242001,\n",
       "         792001,  8202001,  1082001, 11192001,   132002,  2152002,\n",
       "         422002,  5142002,  6262002,   882002,  9202002,  1112002,\n",
       "       12162002,  1302003,  3142003,  4282003,  6102003,  7232003,\n",
       "         942003, 10162003, 11282003,  1132004,  2262004,   482004,\n",
       "        5212004,   772004,  8182004,  9302004, 11112004, 12272004,\n",
       "         282005,  3232005,   552005,  6172005,   812005,  9132005,\n",
       "       10252005,  1272005,  1232006,   372006,  4192006,   612006,\n",
       "        7142006,  8252006,  1092006, 11202006,   152007,  2202007,\n",
       "         432007,  5162007,  6282007,  8102007,  9242007,  1152007,\n",
       "       12182007,   212008,  3172008,  4292008,  6112008,  7242008,\n",
       "         952008, 10172008,  1212008,  1142009,  2272009,  4132009,\n",
       "        5262009,   782009,  8192009,  1012009, 11122009, 12282009,\n",
       "        2102010,  3252010,   572010,  6212010,   832010,  9152010,\n",
       "       10272010,  1292010,  1242011,   382011,  4192011,   622011,\n",
       "        7152011,  8262011, 10102011, 11212011,   152012,  2172012,\n",
       "         422012,  5152012,  6272012,   892012,  9212012,  1162012,\n",
       "       12192012,   242013,  3192013,   512013,  6132013,  7262013,\n",
       "         992013, 10212013,  1232013,  1162014,   332014,  4142014,\n",
       "        5282014,  7102014,  8212014,  1032014, 11142014, 12302014,\n",
       "        2122015,  3272015,  5112015,  6232015,   852015,  9172015,\n",
       "       10292015])"
      ]
     },
     "execution_count": 11,
     "metadata": {},
     "output_type": "execute_result"
    }
   ],
   "source": [
    "import datetime\n",
    "\n",
    "\n",
    "train_y=np.array(label)\n",
    "\n",
    "train_y.shape\n",
    "\n",
    "train_y"
   ]
  },
  {
   "cell_type": "code",
   "execution_count": 12,
   "id": "37f40bc1",
   "metadata": {},
   "outputs": [
    {
     "name": "stdout",
     "output_type": "stream",
     "text": [
      "2121990\n",
      "1291993\n"
     ]
    },
    {
     "data": {
      "image/png": "[encoded data removed]",
      "text/plain": [
       "<Figure size 1000x1000 with 2 Axes>"
      ]
     },
     "metadata": {},
     "output_type": "display_data"
    }
   ],
   "source": [
    "i = 0\n",
    "plt.figure(figsize=(10,10))\n",
    "plt.subplot(121), plt.imshow(train_x[0], cmap='gray')\n",
    "print(train_y[0])\n",
    "plt.subplot(122), plt.imshow(train_x[25], cmap='gray')\n",
    "print(train_y[25])\n",
    "#plt.subplot(112),plt.imshow(train_x[50], cmap='gray')\n",
    "#plt.subplot(114),plt.imshow(train_x[75], cmap='gray')"
   ]
  },
  {
   "cell_type": "code",
   "execution_count": 13,
   "id": "ad55aa8d",
   "metadata": {},
   "outputs": [
    {
     "data": {
      "text/plain": [
       "(217,)"
      ]
     },
     "execution_count": 13,
     "metadata": {},
     "output_type": "execute_result"
    }
   ],
   "source": [
    "\n",
    "#train_y=list(range(0,count))\n",
    "train_y=np.array(train_y)\n",
    "train_y.shape\n"
   ]
  },
  {
   "cell_type": "code",
   "execution_count": 14,
   "id": "799d5cc9",
   "metadata": {},
   "outputs": [
    {
     "data": {
      "text/plain": [
       "(((195, 64, 60), (195,)), ((22, 64, 60), (22,)))"
      ]
     },
     "execution_count": 14,
     "metadata": {},
     "output_type": "execute_result"
    }
   ],
   "source": [
    "from sklearn.model_selection import train_test_split\n",
    "train_x, val_x, train_y,val_y  = train_test_split(train_x,train_y, test_size = 0.1)\n",
    "(train_x.shape,train_y.shape), (val_x.shape,val_y.shape)\n"
   ]
  },
  {
   "cell_type": "code",
   "execution_count": 15,
   "id": "9c40a051",
   "metadata": {},
   "outputs": [
    {
     "name": "stdout",
     "output_type": "stream",
     "text": [
      "(195, 64, 60)\n",
      "(195,)\n"
     ]
    }
   ],
   "source": [
    "print(train_x.shape)\n",
    "print(train_y.shape)"
   ]
  },
  {
   "cell_type": "code",
   "execution_count": 16,
   "id": "c8cd9f02",
   "metadata": {},
   "outputs": [
    {
     "data": {
      "text/plain": [
       "(torch.Size([195, 1, 64, 60]), torch.Size([195]))"
      ]
     },
     "execution_count": 16,
     "metadata": {},
     "output_type": "execute_result"
    }
   ],
   "source": [
    "\n",
    "train_x = train_x.reshape(195, 1, 64 , 60)\n",
    "train_x  = torch.from_numpy(train_x)\n",
    "\n",
    "# converting the target into torch format\n",
    "\n",
    "train_y = train_y.astype(int);\n",
    "train_y = torch.from_numpy(train_y)\n",
    "\n",
    "# shape of training data\n",
    "train_x.shape , train_y.shape"
   ]
  },
  {
   "cell_type": "code",
   "execution_count": 17,
   "id": "370329ac",
   "metadata": {},
   "outputs": [
    {
     "data": {
      "text/plain": [
       "(torch.Size([22, 1, 64, 60]), torch.Size([22]))"
      ]
     },
     "execution_count": 17,
     "metadata": {},
     "output_type": "execute_result"
    }
   ],
   "source": [
    "val_x = val_x.reshape(22, 1, 64, 60)\n",
    "val_x  = torch.from_numpy(val_x)\n",
    "\n",
    "# converting the target into torch format\n",
    "val_y = val_y.astype(int);\n",
    "val_y = torch.from_numpy(val_y)\n",
    "\n",
    "# shape of validation data\n",
    "val_x.shape, val_y.shape"
   ]
  },
  {
   "cell_type": "code",
   "execution_count": 18,
   "id": "deffcaf0",
   "metadata": {},
   "outputs": [],
   "source": [
    "class Net(nn.Module):\n",
    "    def __init__(self):\n",
    "        super().__init__()\n",
    "        self.layer1 = nn.Sequential(\n",
    "            nn.Conv2d(1, 64, kernel_size=(5,3), stride=(3,1), dilation=(2,1), padding=(12,1)),\n",
    "            nn.BatchNorm2d(64),\n",
    "            nn.LeakyReLU(negative_slope=0.01, inplace=True),\n",
    "            nn.MaxPool2d((2, 1), stride=(2, 1)),\n",
    "        )\n",
    "        self.layer2 = nn.Sequential(\n",
    "            nn.Conv2d(64, 128, kernel_size=(5,3), stride=(3,1), dilation=(2,1), padding=(12,1)),\n",
    "            nn.BatchNorm2d(128),\n",
    "            nn.LeakyReLU(negative_slope=0.01, inplace=True),\n",
    "            nn.MaxPool2d((2, 1), stride=(2, 1)),\n",
    "        )\n",
    "        self.layer3 = nn.Sequential(\n",
    "            nn.Conv2d(128, 256, kernel_size=(5,3), stride=(3,1), dilation=(2,1), padding=(12,1)),\n",
    "            nn.BatchNorm2d(256),\n",
    "            nn.LeakyReLU(negative_slope=0.01, inplace=True),\n",
    "            nn.MaxPool2d((2, 1), stride=(2, 1)),\n",
    "        )\n",
    "        self.fc1 = nn.Sequential(\n",
    "            nn.Dropout(p=0.5),\n",
    "            nn.Linear(46080, 2),\n",
    "        )\n",
    "        self.softmax = nn.Softmax(dim=1)\n",
    "       \n",
    "    def forward(self, x):\n",
    "        x = x.reshape(-1,1,64,60)\n",
    "        x = self.layer1(x)\n",
    "        x = self.layer2(x)\n",
    "        x = self.layer3(x)\n",
    "        x = x.reshape(-1,46080)\n",
    "        x = self.fc1(x)\n",
    "        #x = self.softmax(x)\n",
    "        return x"
   ]
  },
  {
   "cell_type": "code",
   "execution_count": 19,
   "id": "e390bca3",
   "metadata": {},
   "outputs": [
    {
     "name": "stdout",
     "output_type": "stream",
     "text": [
      "Net(\n",
      "  (layer1): Sequential(\n",
      "    (0): Conv2d(1, 64, kernel_size=(5, 3), stride=(3, 1), padding=(12, 1), dilation=(2, 1))\n",
      "    (1): BatchNorm2d(64, eps=1e-05, momentum=0.1, affine=True, track_running_stats=True)\n",
      "    (2): LeakyReLU(negative_slope=0.01, inplace=True)\n",
      "    (3): MaxPool2d(kernel_size=(2, 1), stride=(2, 1), padding=0, dilation=1, ceil_mode=False)\n",
      "  )\n",
      "  (layer2): Sequential(\n",
      "    (0): Conv2d(64, 128, kernel_size=(5, 3), stride=(3, 1), padding=(12, 1), dilation=(2, 1))\n",
      "    (1): BatchNorm2d(128, eps=1e-05, momentum=0.1, affine=True, track_running_stats=True)\n",
      "    (2): LeakyReLU(negative_slope=0.01, inplace=True)\n",
      "    (3): MaxPool2d(kernel_size=(2, 1), stride=(2, 1), padding=0, dilation=1, ceil_mode=False)\n",
      "  )\n",
      "  (layer3): Sequential(\n",
      "    (0): Conv2d(128, 256, kernel_size=(5, 3), stride=(3, 1), padding=(12, 1), dilation=(2, 1))\n",
      "    (1): BatchNorm2d(256, eps=1e-05, momentum=0.1, affine=True, track_running_stats=True)\n",
      "    (2): LeakyReLU(negative_slope=0.01, inplace=True)\n",
      "    (3): MaxPool2d(kernel_size=(2, 1), stride=(2, 1), padding=0, dilation=1, ceil_mode=False)\n",
      "  )\n",
      "  (fc1): Sequential(\n",
      "    (0): Dropout(p=0.5, inplace=False)\n",
      "    (1): Linear(in_features=46080, out_features=2, bias=True)\n",
      "  )\n",
      "  (softmax): Softmax(dim=1)\n",
      ")\n"
     ]
    }
   ],
   "source": [
    "model = Net()\n",
    "optimizer = Adam(model.parameters(), lr=0.07)\n",
    "# defining the loss function\n",
    "criterion = CrossEntropyLoss()\n",
    "# checking if GPU is available\n",
    "#if torch.cuda.is_available():\n",
    "   # model = model\n",
    "   # criterion = criterion\n",
    "    \n",
    "print(model)"
   ]
  },
  {
   "cell_type": "code",
   "execution_count": 20,
   "id": "56dc26f7",
   "metadata": {},
   "outputs": [
    {
     "name": "stdout",
     "output_type": "stream",
     "text": [
      "torch.Size([195])\n",
      "torch.Size([195, 1, 64, 60])\n"
     ]
    }
   ],
   "source": [
    "print(train_y.shape) \n",
    "print(train_x.shape)"
   ]
  },
  {
   "cell_type": "code",
   "execution_count": 21,
   "id": "ca95b707",
   "metadata": {},
   "outputs": [],
   "source": [
    "def train(epoch):\n",
    "    \n",
    "    model.train()\n",
    "    tr_loss = 0\n",
    "   \n",
    "   \n",
    "    optimizer.zero_grad()\n",
    "    \n",
    "    output_train=model(train_x)\n",
    "    output_val = model(val_x)\n",
    "    print(\"output :\",output_train.shape)\n",
    "    print(\"train_y :\",train_y.shape)\n",
    "# computing the training and validation loss\n",
    "    print(\"Test1\")\n",
    "    loss_train = criterion(output_train, train_y)\n",
    "    print(\"output :\",output_train.shape)\n",
    "    print(\"train_y :\",train_y.shape)\n",
    "    loss_val = criterion(output_val,val_y)    \n",
    "    train_losses.append(loss_train)\n",
    "    val_losses.append(loss_val)\n",
    "    \n",
    "# computing the updated weights of all the model parameter\n",
    "    loss_train.backward()\n",
    "    optimizer.step()\n",
    "    tr_loss = loss_train.item()    \n",
    "    #if epoch%2 == 0:\n",
    "        \n",
    "        # printing the validation loss\n",
    "    print('Epoch : ',epoch+1 ,  '\\t','loss :', loss_val)\n",
    "    \n",
    "    \n",
    "\n",
    "#print(output_train.shape)\n",
    "#print(y_train.shape)"
   ]
  },
  {
   "cell_type": "code",
   "execution_count": 23,
   "id": "277eb87c",
   "metadata": {
    "scrolled": true
   },
   "outputs": [
    {
     "name": "stdout",
     "output_type": "stream",
     "text": [
      "torch.Size([195])\n",
      "output : torch.Size([195, 2])\n",
      "train_y : torch.Size([195])\n",
      "Test1\n",
      "output : torch.Size([195, 2])\n",
      "train_y : torch.Size([195])\n",
      "Epoch :  1 \t loss : tensor(625.5356, grad_fn=<NllLossBackward0>)\n",
      "output : torch.Size([195, 2])\n",
      "train_y : torch.Size([195])\n",
      "Test1\n",
      "output : torch.Size([195, 2])\n",
      "train_y : torch.Size([195])\n",
      "Epoch :  2 \t loss : tensor(332.4025, grad_fn=<NllLossBackward0>)\n",
      "output : torch.Size([195, 2])\n",
      "train_y : torch.Size([195])\n",
      "Test1\n",
      "output : torch.Size([195, 2])\n",
      "train_y : torch.Size([195])\n",
      "Epoch :  3 \t loss : tensor(314.9142, grad_fn=<NllLossBackward0>)\n",
      "output : torch.Size([195, 2])\n",
      "train_y : torch.Size([195])\n",
      "Test1\n",
      "output : torch.Size([195, 2])\n",
      "train_y : torch.Size([195])\n",
      "Epoch :  4 \t loss : tensor(395.4535, grad_fn=<NllLossBackward0>)\n",
      "output : torch.Size([195, 2])\n",
      "train_y : torch.Size([195])\n",
      "Test1\n",
      "output : torch.Size([195, 2])\n",
      "train_y : torch.Size([195])\n",
      "Epoch :  5 \t loss : tensor(168.3037, grad_fn=<NllLossBackward0>)\n",
      "output : torch.Size([195, 2])\n",
      "train_y : torch.Size([195])\n",
      "Test1\n",
      "output : torch.Size([195, 2])\n",
      "train_y : torch.Size([195])\n",
      "Epoch :  6 \t loss : tensor(212.2475, grad_fn=<NllLossBackward0>)\n",
      "output : torch.Size([195, 2])\n",
      "train_y : torch.Size([195])\n",
      "Test1\n",
      "output : torch.Size([195, 2])\n",
      "train_y : torch.Size([195])\n",
      "Epoch :  7 \t loss : tensor(243.5401, grad_fn=<NllLossBackward0>)\n",
      "output : torch.Size([195, 2])\n",
      "train_y : torch.Size([195])\n",
      "Test1\n",
      "output : torch.Size([195, 2])\n",
      "train_y : torch.Size([195])\n",
      "Epoch :  8 \t loss : tensor(86.2317, grad_fn=<NllLossBackward0>)\n",
      "output : torch.Size([195, 2])\n",
      "train_y : torch.Size([195])\n",
      "Test1\n",
      "output : torch.Size([195, 2])\n",
      "train_y : torch.Size([195])\n",
      "Epoch :  9 \t loss : tensor(170.6022, grad_fn=<NllLossBackward0>)\n",
      "output : torch.Size([195, 2])\n",
      "train_y : torch.Size([195])\n",
      "Test1\n",
      "output : torch.Size([195, 2])\n",
      "train_y : torch.Size([195])\n",
      "Epoch :  10 \t loss : tensor(262.9557, grad_fn=<NllLossBackward0>)\n"
     ]
    }
   ],
   "source": [
    "# defining the number of epochs\n",
    "x = torch.randn([1,1,64,60])\n",
    "n_epochs =10\n",
    "batch=64\n",
    "# empty list to store training losses\n",
    "train_losses = []\n",
    "# empty list to store validation losses\n",
    "val_losses = []\n",
    "\n",
    "train_y=train_y.long().random_(2)\n",
    "print(train_y.shape)\n",
    "val_y=val_y.long().random_(2)\n",
    "# training the model\n",
    "for epoch in range(n_epochs):\n",
    "    train(epoch)"
   ]
  },
  {
   "cell_type": "code",
   "execution_count": 24,
   "id": "d4c132ca",
   "metadata": {},
   "outputs": [
    {
     "name": "stdout",
     "output_type": "stream",
     "text": [
      "train loss : [tensor(672.0020, grad_fn=<NllLossBackward0>), tensor(351.3651, grad_fn=<NllLossBackward0>), tensor(296.5813, grad_fn=<NllLossBackward0>), tensor(373.9347, grad_fn=<NllLossBackward0>), tensor(161.3982, grad_fn=<NllLossBackward0>), tensor(230.2464, grad_fn=<NllLossBackward0>), tensor(261.3763, grad_fn=<NllLossBackward0>), tensor(94.7349, grad_fn=<NllLossBackward0>), tensor(162.8335, grad_fn=<NllLossBackward0>), tensor(244.7350, grad_fn=<NllLossBackward0>)]\n",
      "val loss :  [tensor(625.5356, grad_fn=<NllLossBackward0>), tensor(332.4025, grad_fn=<NllLossBackward0>), tensor(314.9142, grad_fn=<NllLossBackward0>), tensor(395.4535, grad_fn=<NllLossBackward0>), tensor(168.3037, grad_fn=<NllLossBackward0>), tensor(212.2475, grad_fn=<NllLossBackward0>), tensor(243.5401, grad_fn=<NllLossBackward0>), tensor(86.2317, grad_fn=<NllLossBackward0>), tensor(170.6022, grad_fn=<NllLossBackward0>), tensor(262.9557, grad_fn=<NllLossBackward0>)]\n"
     ]
    }
   ],
   "source": [
    "print(\"train loss :\" ,train_losses)\n",
    "print(\"val loss : \",val_losses)\n"
   ]
  },
  {
   "cell_type": "code",
   "execution_count": 25,
   "id": "f235daf0",
   "metadata": {},
   "outputs": [
    {
     "data": {
      "text/plain": [
       "list"
      ]
     },
     "execution_count": 25,
     "metadata": {},
     "output_type": "execute_result"
    }
   ],
   "source": [
    "from matplotlib import pyplot as plt\n",
    "#train_losses_A=train_losses\n",
    "type(train_losses)\n",
    "#tr=train_losses.detach.numpy()\n",
    "#vl=val_losses.numpy()\n",
    "#plt.plot(tr,vl)\n",
    "#plt.show()"
   ]
  },
  {
   "cell_type": "code",
   "execution_count": 26,
   "id": "d27c8cfb",
   "metadata": {},
   "outputs": [
    {
     "name": "stderr",
     "output_type": "stream",
     "text": [
      "No artists with labels found to put in legend.  Note that artists whose label start with an underscore are ignored when legend() is called with no argument.\n"
     ]
    },
    {
     "data": {
      "image/png": "[encoded data removed]",
      "text/plain": [
       "<Figure size 640x480 with 1 Axes>"
      ]
     },
     "metadata": {},
     "output_type": "display_data"
    }
   ],
   "source": [
    "with torch.no_grad():\n",
    "    plt.plot(train_losses)\n",
    "    plt.plot(val_losses)\n",
    "    plt.legend()\n",
    "    plt.show()"
   ]
  }
 ],
 "metadata": {
  "kernelspec": {
   "display_name": "Python 3 (ipykernel)",
   "language": "python",
   "name": "python3"
  },
  "language_info": {
   "codemirror_mode": {
    "name": "ipython",
    "version": 3
   },
   "file_extension": ".py",
   "mimetype": "text/x-python",
   "name": "python",
   "nbconvert_exporter": "python",
   "pygments_lexer": "ipython3",
   "version": "3.9.13"
  }
 },
 "nbformat": 4,
 "nbformat_minor": 5
}
